{
 "cells": [
  {
   "cell_type": "code",
   "execution_count": 5,
   "metadata": {},
   "outputs": [],
   "source": [
    "import sys\n",
    "import os\n",
    "\n",
    "module_path = os.path.abspath(os.path.join('..'))\n",
    "#print(module_path)\n",
    "if module_path not in sys.path:\n",
    "    sys.path.append(module_path)\n",
    "#print(sys.path)\n",
    "\n",
    "from parallel import Invoker"
   ]
  },
  {
   "cell_type": "code",
   "execution_count": 6,
   "metadata": {},
   "outputs": [],
   "source": [
    "# Calculate params for simulations\n",
    "from numpy import arange,linspace,logspace\n",
    "NUM_SIMULATED_CORES = 16\n",
    "F_STEP = 2\n",
    "#FunctionRange = arange(2,NUM_SIMULATED_CORES+F_STEP,F_STEP) # interval is open\n",
    "FunctionRange = [16]\n",
    "#GroupingRange = logspace(base=2,start=0,stop=4,num=5)\n",
    "GroupingRange = [1,4,16]\n",
    "\n",
    "import math\n",
    "\n",
    "def divisorGenerator(n):\n",
    "    large_divisors = []\n",
    "    for i in range(1, int(math.sqrt(n) + 1)):\n",
    "        if n % i == 0:\n",
    "            yield i\n",
    "            if i*i != n:\n",
    "                large_divisors.append(n / i)\n",
    "    for divisor in reversed(large_divisors):\n",
    "        yield divisor\n",
    "            \n",
    "def filter_configs_by_cores(num_funcs,grouping,divisor_list):\n",
    "    num_queues = num_funcs / grouping\n",
    "    if num_queues in divisor_list:\n",
    "        return True\n",
    "        return (num_funcs,grouping,cores_per_q)\n",
    "    \n",
    "# Cores_per_q is always even for now by virtue of filter_configs_by_cores\n",
    "def setup_final_config(num_funcs,grouping):\n",
    "    num_queues = num_funcs / grouping\n",
    "    cores_per_q = NUM_SIMULATED_CORES / num_queues\n",
    "    rdict = { 'funcs': int(num_funcs), 'grouping' : int(grouping), 'cores_per_q': int(cores_per_q), 'stime':1}\n",
    "    if rdict['grouping'] == 4:\n",
    "        rdict['stime'] = .9\n",
    "    elif rdict['grouping'] == 1:\n",
    "        rdict['stime'] = .8\n",
    "    return rdict\n",
    "    \n",
    "core_divisors = list(divisorGenerator(NUM_SIMULATED_CORES))\n",
    "iterator_combinations = ((fr,gr) for fr in FunctionRange for gr in GroupingRange )\n",
    "possible_combos = filter(lambda x : filter_configs_by_cores(x[0],x[1],core_divisors), iterator_combinations)\n",
    "final_params = list(map(lambda x : setup_final_config(x[0],x[1]), possible_combos)) # don't run this cell repeatedly"
   ]
  },
  {
   "cell_type": "code",
   "execution_count": 7,
   "metadata": {},
   "outputs": [
    {
     "name": "stdout",
     "output_type": "stream",
     "text": [
      "Starting simulation for \\(Nf,G\\) 16 1\n",
      "Starting simulation for \\(Nf,G\\) 16 4\n",
      "Starting simulation for \\(Nf,G\\) 16 16\n",
      "Simulations done!!\n"
     ]
    }
   ],
   "source": [
    "#### Run simulations for various function numbers and various function grouping\n",
    "def setup_sim(func_group,core_group,num_functions,stime,load_range):\n",
    "    invokerArgs = {'runnableTarg' : 'qmodel_dispatch',\n",
    "                  'mode': 'sweep_A',\n",
    "                  'numProcs' : 2,\n",
    "                  'NumWorkers' : NUM_SIMULATED_CORES,\n",
    "                   'argrange': load_range,\n",
    "                   'NumFunctions': num_functions,\n",
    "                   'FunctionGrouping': func_group,\n",
    "                   'CoreGrouping': core_group,\n",
    "                   'FixedTime' : stime,\n",
    "                   'RequestsToSimulate': 250000\n",
    "                  }\n",
    "    return invokerArgs\n",
    "\n",
    "import pandas\n",
    "\n",
    "MAX_LD_NUM = 0.8/float(NUM_SIMULATED_CORES)\n",
    "\n",
    "def conv_to_max(abs_num):\n",
    "    return MAX_LD_NUM/float(abs_num)\n",
    "    \n",
    "# Return a pandas dataframe with all results\n",
    "def run_sims(func_group,core_group,num_functions,stime,load_range):\n",
    "    args = setup_sim(func_group,core_group,num_functions,stime,load_range)\n",
    "    simulationController = Invoker( **args )\n",
    "    print('Starting simulation for \\(Nf,G\\)',num_functions,core_group)\n",
    "    simulationController.startProcs()\n",
    "    simulationController.joinProcs()\n",
    "    # Get results\n",
    "    numProcs = args['numProcs']\n",
    "    \n",
    "    results = [ simulationController.getResultsFromQueue(idx) for idx in range(numProcs) ]\n",
    "    flat_results = [ y for x in results for y in x ]\n",
    "    \n",
    "    # Remap results to the following format to import to pandas\n",
    "    # { 'loads' : [ list of data points ]\n",
    "    #    <Percentile Value> : [ list of data points ]\n",
    "    # }\n",
    "    def add_key_or_append(d,k,v):\n",
    "        if k in d.keys():\n",
    "            d[k].append(v)\n",
    "        else:\n",
    "            d[k] = []\n",
    "            \n",
    "    remap_dict = {}\n",
    "    \n",
    "    for x in flat_results:\n",
    "        for load,times in x.items():\n",
    "            remap_dict[conv_to_max(load)] = times\n",
    "    sorted_dict = {k:v for k,v in sorted(remap_dict.items(),key=lambda x : x[0])}\n",
    "    f_dict = {}\n",
    "    \n",
    "    for load,time_dict in sorted_dict.items():\n",
    "        # Append all loads to dict\n",
    "        add_key_or_append(f_dict,'load',load)\n",
    "        for p,v in time_dict.items():\n",
    "            add_key_or_append(f_dict,str(p),v)      \n",
    "\n",
    "    return args,pandas.DataFrame.from_dict(f_dict)\n",
    "\n",
    "from numpy import linspace,geomspace,concatenate\n",
    "low_range= linspace(1,0.15,10)\n",
    "high_range = linspace(0.15,MAX_LD_NUM,40)\n",
    "load_range = concatenate([low_range,high_range])\n",
    "### Run a group of simulations for each pair of num_functions/function_groupings\n",
    "#load_range = geomspace(1,MAX_LD_NUM,200)\n",
    "#args,ex_df = run_sims(4,4,16,load_range)\n",
    "sims_gen = list(map(lambda x : run_sims(x['grouping'],x['cores_per_q'],x['funcs'],x['stime'],load_range),final_params))\n",
    ";\n",
    "print('Simulations done!!')"
   ]
  },
  {
   "cell_type": "code",
   "execution_count": 8,
   "metadata": {},
   "outputs": [
    {
     "name": "stdout",
     "output_type": "stream",
     "text": [
      "Starting simulation for \\(Nf,G\\) 16 16\n",
      "Running ideal simulation is done!!\n"
     ]
    }
   ],
   "source": [
    "## Make 'ideal' data series\n",
    "ideal_params = [{ 'funcs': 16, 'grouping' : 16, 'cores_per_q': 16, 'stime': 0.8}]\n",
    "sim_ideal = list(map(lambda x : run_sims(x['grouping'],x['cores_per_q'],x['funcs'],x['stime'],load_range),ideal_params))\n",
    ";\n",
    "print('Running ideal simulation is done!!')"
   ]
  },
  {
   "cell_type": "code",
   "execution_count": 11,
   "metadata": {
    "scrolled": true
   },
   "outputs": [
    {
     "name": "stdout",
     "output_type": "stream",
     "text": [
      "Figure already exists with fname grouping_comparisons_16funcs_uniform.pdf will back up!\n"
     ]
    },
    {
     "name": "stderr",
     "output_type": "stream",
     "text": [
      "/Users/msutherl/Documents/epfl_phd/PARSA/Research/HARNESS/qmodels/venv/lib/python3.8/site-packages/matplotlib/figure.py:458: UserWarning: matplotlib is currently using a non-GUI backend, so cannot show the figure\n",
      "  warnings.warn(\n"
     ]
    },
    {
     "data": {
      "image/png": "[encoded data removed]",
      "text/plain": [
       "<Figure size 504x180 with 2 Axes>"
      ]
     },
     "metadata": {},
     "output_type": "display_data"
    }
   ],
   "source": [
    "####### Create 50th and 99th% plots for various G\n",
    "graph_us = {}\n",
    "graph_ideal = {}\n",
    "def init_or_add_val(d,k,k2,v):\n",
    "    if k not in d.keys():\n",
    "        d[k] = {}\n",
    "    if k2 not in d[k].keys():\n",
    "        d[k][k2] = v\n",
    "    else:\n",
    "        print('WARN: WOULD HAVE OVERWRITTEN DATA')\n",
    "        \n",
    "def backup_file_if_exists(fname):\n",
    "    if os.path.exists(fname):\n",
    "        print('Figure already exists with fname',fname,'will back up!')\n",
    "        fname_bak = fname + '.bak'\n",
    "        os.rename(fname,fname_bak)\n",
    "\n",
    "for args,df in sims_gen:\n",
    "    tup_to_k2 = (args['FunctionGrouping'],args['CoreGrouping'])\n",
    "    init_or_add_val(graph_us,args['NumFunctions'],tup_to_k2,df)\n",
    "    \n",
    "for args,df in sim_ideal:\n",
    "    tup_to_k2 = (args['FunctionGrouping'],args['CoreGrouping'])\n",
    "    init_or_add_val(graph_ideal,args['NumFunctions'],tup_to_k2,df)\n",
    "    \n",
    "# Generate plots\n",
    "import matplotlib.pyplot as plt\n",
    "import numpy\n",
    "from matplotlib import rc\n",
    "from matplotlib.backends.backend_pdf import PdfPages\n",
    "fontdir = {'size':12,'family':'serif'}\n",
    "rc('font',**fontdir)\n",
    "rc('text',usetex=True)\n",
    "\n",
    "labels_for_grouping = {16: \"None\", 4: \"Partial\", 1: \"Full\"}\n",
    "for nfuncs,data in graph_us.items():\n",
    "    fname = 'grouping_comparisons_'+str(nfuncs)+'funcs_uniform.pdf'\n",
    "    backup_file_if_exists(fname)\n",
    "        \n",
    "    # Get ideal simulation data to match this nfuncs\n",
    "    data_ideal = graph_ideal[nfuncs]\n",
    "\n",
    "    with PdfPages(fname) as pp:\n",
    "        f,axarr = plt.subplots(1,2,figsize=(7,2.5))\n",
    "        for tup, values in data.items():\n",
    "            grouping = tup[0]\n",
    "            cores_per_q = tup[1]\n",
    "            num_queues = int(nfuncs / grouping)\n",
    "            mathstring = r\" $(\"+str(num_queues)+\"\\\\times\"+str(cores_per_q)+\")$\"\n",
    "            #l = 'G = ' + str(grouping) + mathstring\n",
    "            values.plot(x='load',y='50',ax=axarr[0],label=labels_for_grouping[grouping])\n",
    "            values.plot(x='load',y='99',ax=axarr[1],label=labels_for_grouping[grouping])\n",
    "            \n",
    "        for tup, values in data_ideal.items():\n",
    "            values.plot(x='load',y='50',ax=axarr[0],label='Ideal',style='k--')\n",
    "            values.plot(x='load',y='99',ax=axarr[1],label='Ideal',style='k--')\n",
    "\n",
    "        for i,ax in enumerate(axarr):\n",
    "            ax.grid(True,axis='both',linestyle='--',alpha=0.5)\n",
    "            ax.get_legend().remove()\n",
    "\n",
    "\n",
    "        handles, labels = axarr[0].get_legend_handles_labels()\n",
    "\n",
    "\n",
    "        axarr[0].set_ylabel('Latency')\n",
    "        axarr[0].set_xlabel('Norm. Load')\n",
    "        axarr[1].set_xlabel('Norm. Load')\n",
    "        axarr[0].set_ylim(0,10)\n",
    "        axarr[1].set_ylim(0,10)\n",
    "        axarr[0].set_xlim(0,1)\n",
    "        axarr[1].set_xlim(0,1)\n",
    "        axarr[0].set_xticks(numpy.linspace(0,1,5))\n",
    "        axarr[1].set_xticks(numpy.linspace(0,1,5))\n",
    "        axarr[0].set_title('Avg.')\n",
    "        axarr[1].set_title('99th\\%')\n",
    "\n",
    "        f.legend(handles,labels,loc='upper left',bbox_to_anchor=(0.1,0.82),ncol=1,fontsize=12,frameon=True,framealpha=1,\n",
    "            handlelength=1,columnspacing=1)\n",
    "\n",
    "        f.tight_layout()\n",
    "        pp.savefig()\n",
    "        f.show()"
   ]
  },
  {
   "cell_type": "code",
   "execution_count": 14,
   "metadata": {},
   "outputs": [
    {
     "name": "stdout",
     "output_type": "stream",
     "text": [
      "Figure already exists with fname affinity_dispatch_motivation_data.pjar will back up!\n"
     ]
    }
   ],
   "source": [
    "# Pickle the results\n",
    "import pickle\n",
    "\n",
    "def pickle_me(fname,obj):\n",
    "    backup_file_if_exists(fname)\n",
    "    with open(fname,'wb') as fh:\n",
    "        jar = pickle.Pickler(fh)\n",
    "        jar.dump(obj)\n",
    "\n",
    "filename_dat = 'affinity_dispatch_motivation_data.pjar'\n",
    "filename_ideal = 'affinity_dispatch_motivation_ideal.pjar'\n",
    "\n",
    "pickle_me(filename_dat,graph_us)\n",
    "pickle_me(filename_ideal,graph_ideal)"
   ]
  },
  {
   "cell_type": "code",
   "execution_count": null,
   "metadata": {},
   "outputs": [],
   "source": []
  },
  {
   "cell_type": "code",
   "execution_count": null,
   "metadata": {},
   "outputs": [],
   "source": []
  }
 ],
 "metadata": {
  "kernelspec": {
   "display_name": "Python 3",
   "language": "python",
   "name": "python3"
  },
  "language_info": {
   "codemirror_mode": {
    "name": "ipython",
    "version": 3
   },
   "file_extension": ".py",
   "mimetype": "text/x-python",
   "name": "python",
   "nbconvert_exporter": "python",
   "pygments_lexer": "ipython3",
   "version": "3.8.7"
  }
 },
 "nbformat": 4,
 "nbformat_minor": 2
}
